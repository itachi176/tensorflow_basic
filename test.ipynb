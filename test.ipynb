{
 "metadata": {
  "language_info": {
   "codemirror_mode": {
    "name": "ipython",
    "version": 3
   },
   "file_extension": ".py",
   "mimetype": "text/x-python",
   "name": "python",
   "nbconvert_exporter": "python",
   "pygments_lexer": "ipython3",
   "version": "3.8.5-final"
  },
  "orig_nbformat": 2,
  "kernelspec": {
   "name": "python3",
   "display_name": "Python 3.8.5 64-bit",
   "metadata": {
    "interpreter": {
     "hash": "916dbcbb3f70747c44a77c7bcd40155683ae19c65e1c03b4aa3499c5328201f1"
    }
   }
  }
 },
 "nbformat": 4,
 "nbformat_minor": 2,
 "cells": [
  {
   "cell_type": "code",
   "execution_count": 1,
   "metadata": {},
   "outputs": [],
   "source": [
    "import matplotlib.pyplot as plt \n",
    "import os\n",
    "import re \n",
    "import tensorflow as tf\n",
    "from tensorflow.keras import layers\n",
    "from tensorflow.keras import losses\n",
    "from tensorflow.keras import preprocessing"
   ]
  },
  {
   "cell_type": "code",
   "execution_count": 2,
   "metadata": {},
   "outputs": [
    {
     "output_type": "stream",
     "name": "stdout",
     "text": [
      "Found 75000 files belonging to 3 classes.\nUsing 60000 files for training.\n"
     ]
    }
   ],
   "source": [
    "batch_size = 32\n",
    "seed = 42\n",
    "raw_train_ds = tf.keras.preprocessing.text_dataset_from_directory(\n",
    "    'aclImdb/train', batch_size = batch_size, validation_split=0.2, subset='training', seed=seed)\n"
   ]
  },
  {
   "cell_type": "code",
   "execution_count": 9,
   "metadata": {},
   "outputs": [
    {
     "output_type": "stream",
     "name": "stdout",
     "text": [
      "b\"I bought this thinking I was gonna see Olivier Gruner kick some butt for 90 minutes but no the reasonably impressive cast including Michael Madson, Michael Ironside and Martin Kove are all wasted in mere cameos as they make way for the introduction of new action star Dan Anderson. The film also known in another name as Last line of defence 2 an apparant sequal to another film Gruner was in as the lead as a different character. What is the point? the first which I have not seen is apparantly about an alien or something, this is completley different featuring a story about a disgraced army guy (can't remeber who he worked for) who needs to rasie 5 million for a special new cancer treatment that will save his son and other children. Michael Ironside plays a wealthy business man who is of course a dirty scoundral who is swimming in dirty ill-gotten money. He laughs at Dan Andersons character and refuses to give it. Dan decides to steal it from him with the help of some ex colleagues from the special forces and his new workmates in his office job. This film looks painfully cheap throughout, no explosions barely any action of which is wafer thin, with little special effects such as squibs and bullet holes neccassary to add depth to any action scene and fight choreography is uninspired as is the fact that there seems to be not one good stunt. All action flicks from the bid busdgets to home movies should have some sort of dangerous stunt in it. Dan Anderson is bad, I doubt he will evr work again, he can't act, I see no sign of any fighting ability, he is nothing more than a beefy bloke who has been scraped from the bottom of the action barrell. So many people could have been cast here, you look at the amount of actionb stars there are out there, even the like of Don the Dragon and Gary Daniels, Billy Blanks can act better than this guy plus they are all martial artists. The best acting in this probably comes from Gruner which is saying something, Madson and Ironside are wasted but are merely coasting through happy to pick up there cheques for minimal effort. The possibilities the plot had are wasted, the script is poor and the direction flat, there is nothing to hold your attention, certainly not the painfully wooden Anderson who is either an Ex-American football player or a stunt man turned actor. He's bid but in no way looks bad, he just doesn't have an action man look of toughness he can give out,Gruner has this and it makes you think he would have been so much better in the lead. Why in all honesty they made this movie is beyond me it is so uninspired. I have been tricked. The cover of the DVD I rented has Gruner, Madsen and Ironside on the front so I naturally thought this was an Olivier flick, by this fact I wasn't expecting too much but I was shocked at the appalling use of mis-advertising. 2/10 (the two is for idea, but there are no marks for the execution)\"\nLabel 2\nb\"This movie made me laugh, partly because of the persistent clown theme and partly because it is so cheap! The acting is bad, the lines are cheesy, the effects are budget and the plot is silly. The only thing that is really done properly is the clown faces, which have a lot of character and might even scare young children. A shooting star falls to earth and soon the crazy ugly clowns are shooting innocent residents with popcorn guns and wrapping them up in cotton candy. Enter the stereotypes: the girlfriend and boyfriend, the macho cop, the grumpy cop who thinks it's all a hoax, and lots of innocent bystanders. Fun if your brain is switched to standby :-)\"\nLabel 2\nb'As an AIP film with a title like this, criticizing FROGS would be tantamount to kicking a puppy...<br /><br />Wealthy Ray Milland and his brood gather for a 4th of July celebration at their bayou estate only to be picked off one at a time by snakes, spiders and what appears to be moss. It\\'s pretty grim going. The film itself is not so much directed as it is nature shots spliced together with scenes featuring a mostly bickering family and one interloper (dependable Sam Elliott). It\\'s not the worst movie ever made, but it might be the worst movie ever made about vengeful frogs. One is only left pondering whether Milland bothered to save ANY money from his heyday as a movie star in the 40s and 50s. This guy actually won an Oscar in his early days! Elliott isn\\'t bad, nor is the supporting cast including Mae Mercer as \"MayBelle\" and Joan Van Ark (pre-TV stardom and<br /><br />pretty well put together in 1970s hot pants).'\nLabel 2\n"
     ]
    }
   ],
   "source": [
    "for text_batch, label_batch in raw_train_ds.take(1):\n",
    "    for i in range(3):\n",
    "        print(text_batch.numpy()[i])\n",
    "        print(\"Label\", label_batch.numpy()[i])\n"
   ]
  },
  {
   "cell_type": "code",
   "execution_count": null,
   "metadata": {},
   "outputs": [],
   "source": []
  }
 ]
}